{
 "cells": [
  {
   "cell_type": "code",
   "execution_count": 2,
   "metadata": {},
   "outputs": [],
   "source": [
    "import requests as r\n",
    "from bs4 import BeautifulSoup\n",
    "import csv\n",
    "\n",
    "website=\"http://www.planecrashinfo.com\"\n",
    "web = r.get(\"http://www.planecrashinfo.com/database.htm\")\n",
    "links = web.content.decode().split(\"<a href=\\\"\")\n",
    "links = links[1:]\n",
    "links = [x.split(\"\\\">\")[0] for x in links]\n",
    "links = links[:-1]\n",
    "links[9] = \"/\" + links[9]\n",
    "crashes=[]\n",
    "for link in links:\n",
    "    page = r.get(website+link)\n",
    "    soup = BeautifulSoup(page.content,\"html.parser\")\n",
    "    for t in soup.body.table.find_all(\"tr\"):\n",
    "        if t.text.split(\"\\n\")[1:-1][0] == \"Date\":\n",
    "            continue\n",
    "        else:\n",
    "            crashes.append(t.text.split(\"\\n\")[1:-1])\n",
    "with open(\"airplane_crash_since_1920_may_2020_1.csv\", \"w\", newline=\"\") as f:\n",
    "    writer = csv.writer(f)\n",
    "    writer.writerow(['Date', 'Location/Operator', 'Aircraft Type/Registration','Fatalities'])\n",
    "    writer.writerows(crashes)"
   ]
  },
  {
   "cell_type": "code",
   "execution_count": null,
   "metadata": {},
   "outputs": [],
   "source": []
  }
 ],
 "metadata": {
  "kernelspec": {
   "display_name": "Python 3",
   "language": "python",
   "name": "python3"
  },
  "language_info": {
   "codemirror_mode": {
    "name": "ipython",
    "version": 3
   },
   "file_extension": ".py",
   "mimetype": "text/x-python",
   "name": "python",
   "nbconvert_exporter": "python",
   "pygments_lexer": "ipython3",
   "version": "3.7.3"
  }
 },
 "nbformat": 4,
 "nbformat_minor": 4
}
